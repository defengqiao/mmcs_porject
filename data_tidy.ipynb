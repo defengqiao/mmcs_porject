{
 "cells": [
  {
   "cell_type": "markdown",
   "metadata": {},
   "source": [
    "1. The data is processed to obtain the quadrangular coordinates of each gird $g_{i,1}$, $g_{i,2}$, $g_{i,3}$, $g_{i,4}$\n",
    "2. get the center point of gird $g_i=\\frac{1}{4}\\sum\\limits _{j=1}^{4}g_{i,j}$\n"
   ]
  },
  {
   "cell_type": "code",
   "execution_count": 124,
   "metadata": {},
   "outputs": [],
   "source": [
    "import numpy as np\n",
    "import pandas as pd\n",
    "import copy\n",
    "from geopy.distance import geodesic\n",
    "filePath_01='D:/Study/MMCS/project/orig_data/Demand_data.xlsx'\n",
    "filePath_02='D:/Study/MMCS/project/orig_data/Potential_charging_points.xlsx'\n",
    "filePath_03='D:/Study/MMCS/project/orig_data/Charging_points.xlsx'\n",
    "dem=pd.read_excel(filePath_01,sheet_name='Sheet1') # grid num_of_stations dis_center demand1,2,3\n",
    "pot=pd.read_excel(filePath_02,sheet_name='Sheet1') # potential_points\n",
    "cha=pd.read_excel(filePath_03,sheet_name='Sheet1') # existing_charging_stations\n",
    "\n",
    "# The data is processed to obtain the quadrangular coordinates of each gird\n",
    "# turn (lng,lat) to (lat,lng)\n",
    "geometry=copy.deepcopy(dem['geometry'])\n",
    "for i in range(len(geometry)):\n",
    "    geometry[i]=geometry[i][10:-2]\n",
    "    geometry[i]=[tuple(float(j) for j in i.split()[::-1]) for i in geometry[i].split(',')]\n",
    "    geometry[i]=geometry[i]\n",
    "\n",
    "# get the center point of gird\n",
    "loca=[[0,0] for i in range(len(geometry))]\n",
    "for i in range(len(geometry)):\n",
    "    for j in range(len(geometry[i])-1):\n",
    "        for k in range(len(geometry[i][j])):\n",
    "            loca[i][k]+=geometry[i][j][k]\n",
    "    loca[i][0]=loca[i][0]/4\n",
    "    loca[i][1]=loca[i][1]/4\n",
    "    loca[i]=tuple(loca[i])\n",
    "\n",
    "# get locations of existing stations\n",
    "# get locations of potential points\n",
    "eloca=[tuple(float(i) for i in r[7:-1].split()[::-1]) for r in cha['geometry']]\n",
    "ploca=[tuple(float(i) for i in r[7:-1].split()[::-1]) for r in pot['geometry']]"
   ]
  },
  {
   "cell_type": "markdown",
   "metadata": {},
   "source": [
    "3. calculate the distance between girds and potential points with function geodesic in a package called geopy\n",
    "4. the unit is meters\n"
   ]
  },
  {
   "cell_type": "code",
   "execution_count": 125,
   "metadata": {},
   "outputs": [],
   "source": [
    "# calculate the distance, the unit is meters(lat,lng)\n",
    "# distance matrix girds--potential points\n",
    "A=tuple(tuple(round(geodesic(loca[i],ploca[j]).m,1) for j in range(len(ploca))) for i in range(len(loca)))\n",
    "# row i :grid i corresponding to every potential\n",
    "# row: grid center\n",
    "# col: potential points"
   ]
  },
  {
   "cell_type": "code",
   "execution_count": 126,
   "metadata": {},
   "outputs": [],
   "source": [
    "# index of potential points\n",
    "indexp=tuple(f\"p{i+1}\" for i in range(len(ploca)))\n",
    "# creat table\n",
    "table1=pd.DataFrame(A,columns=indexp)\n",
    "# add Distance from Centre\n",
    "table1.insert(loc=0,column='Distance from Centre',value=tuple(dem['Distance from Centre']))\n",
    "\n",
    "# get all demand\n",
    "for i in range(4):\n",
    "    table1.insert(loc=0,column=f'Demand_{3-i}', value=tuple(dem[f'Demand_{3-i}']))\n",
    "\n",
    "# gird id\n",
    "table1.insert(loc=0, column='Grid_id', value=range(1,len(A)+1))\n"
   ]
  },
  {
   "cell_type": "markdown",
   "metadata": {},
   "source": [
    "1. tidy data remove all the girds which have no demand, to make computers do calculations faster\n",
    "2. There are some grids with too much grid and it's improper to make one point to supply such a grid. \n",
    "3. here we use 5000 as the uppper demand\n",
    "4. we decide to divide these girds into smaller grids with lower demand. \n",
    "5. a gird will be divided into $n=\\lfloor dem/(upper+1)\\rfloor$ smaller girds and their demand will be $dem_{new}=\\dfrac{dem}{n}$"
   ]
  },
  {
   "cell_type": "code",
   "execution_count": 127,
   "metadata": {},
   "outputs": [],
   "source": [
    "# remove all girds without demand\n",
    "nodemList=[]\n",
    "for i in range(len(table1)-1,-1,-1):\n",
    "    #if all(table1.loc[i][['Demand_0','Demand_1','Demand_2','Demand_3']]==0):\n",
    "    if max(table1.loc[i][['Demand_0','Demand_1','Demand_2','Demand_3']])<=500:\n",
    "        nodemList.append(i)\n",
    "\n",
    "table1 = table1.drop(labels=nodemList)\n",
    "table1=table1.reset_index(drop=True)\n",
    "    \n",
    "# demand of some girds are too large, they need be divided\n",
    "needupper=10000\n",
    "ntable1=len(table1)\n",
    "for i in range(ntable1):\n",
    "    need=max(table1.loc[i,['Demand_0','Demand_1','Demand_2','Demand_3']])\n",
    "    if need>needupper:\n",
    "        div=int(need//needupper+1)\n",
    "        table1.loc[i,'Demand_0']=copy.copy(table1.loc[i,'Demand_0']/div)\n",
    "        table1.loc[i,'Demand_1']=copy.copy(table1.loc[i,'Demand_1']/div)\n",
    "        table1.loc[i,'Demand_2']=copy.copy(table1.loc[i,'Demand_2']/div)\n",
    "        table1.loc[i,'Demand_3']=copy.copy(table1.loc[i,'Demand_3']/div)\n",
    "        for j in range(div):\n",
    "            table1.loc[len(table1)]=copy.copy(table1.loc[i])\n",
    "table1=table1.sort_values(by='Grid_id')\n",
    "table1=table1.reset_index(drop=True)\n",
    "table1['Grid_id'] = table1['Grid_id'].astype(np.int64)\n"
   ]
  },
  {
   "cell_type": "code",
   "execution_count": 128,
   "metadata": {},
   "outputs": [],
   "source": [
    "# save in csv\n",
    "# coding:utf-8\n",
    "table1.to_csv('allinone.csv')"
   ]
  },
  {
   "cell_type": "code",
   "execution_count": 129,
   "metadata": {},
   "outputs": [],
   "source": [
    "xprDist=[]\n",
    "for i in range(len(table1)):\n",
    "    for j in range(len(ploca)):\n",
    "        xprDist.append((j+1,i+1,table1.iloc[i,j+6]))\n",
    "xprDist=pd.DataFrame(xprDist)\n",
    "xprDist.to_csv('xpressDist.csv')"
   ]
  },
  {
   "cell_type": "code",
   "execution_count": 130,
   "metadata": {},
   "outputs": [],
   "source": [
    "xprDem=[]\n",
    "for i in range(len(table1)):\n",
    "    for j in range(4):\n",
    "        xprDem.append((i+1,j+1,table1.iloc[i,j+1]))\n",
    "xprDem=pd.DataFrame(xprDem)\n",
    "xprDem.to_csv('xpressDemand.csv')"
   ]
  },
  {
   "cell_type": "markdown",
   "metadata": {},
   "source": [
    "## existing stations information"
   ]
  },
  {
   "cell_type": "markdown",
   "metadata": {},
   "source": [
    "existing point"
   ]
  },
  {
   "cell_type": "code",
   "execution_count": 131,
   "metadata": {},
   "outputs": [],
   "source": [
    "infore=list(range(len(cha['Type'])))\n",
    "P=[]\n",
    "while infore!=[]:\n",
    "    seta=set()\n",
    "    a=infore.pop()\n",
    "    seta.add(a)\n",
    "    for i in infore:\n",
    "        if geodesic(eloca[a],eloca[i]).m<=50:\n",
    "            seta.add(infore.pop())\n",
    "    p=[0,0,0,eloca[a]]\n",
    "    for i in seta:\n",
    "        if cha['Type'][i]=='Slow':\n",
    "            p[0]+=1\n",
    "        elif cha['Type'][i]=='Fast':\n",
    "            p[1]+=1\n",
    "        else:\n",
    "            p[2]+=1\n",
    "    P.append(p[:])\n",
    "    "
   ]
  },
  {
   "cell_type": "code",
   "execution_count": 132,
   "metadata": {},
   "outputs": [],
   "source": [
    "Xpress_ex_type_num=[]\n",
    "for i in range(len(P)):\n",
    "    for j in range(3):\n",
    "        Xpress_ex_type_num.append((j+1,i+1,P[i][j]))\n",
    "Xpress_ex_type_num=pd.DataFrame(Xpress_ex_type_num)\n",
    "Xpress_ex_type_num.to_csv('XpressExNum.csv.csv')"
   ]
  },
  {
   "cell_type": "markdown",
   "metadata": {},
   "source": [
    "calculate the distance between girds(divided) and existing stations"
   ]
  },
  {
   "cell_type": "code",
   "execution_count": 133,
   "metadata": {},
   "outputs": [],
   "source": [
    "Ae=tuple(tuple(round(geodesic(loca[j-1],P[i][3]).m,1) for j in table1['Grid_id']) for i in range(len(P)))"
   ]
  },
  {
   "cell_type": "code",
   "execution_count": 134,
   "metadata": {},
   "outputs": [],
   "source": [
    "# table1['Grid_id']contains the id that needs to be calculated，\n",
    "# index of loca begin from 0，need -1\n",
    "# each column is a 'customer', e.i. divided grids\n",
    "#Ae=tuple(tuple(round(geodesic(loca[j-1],eloca[i]).m,1) for j in table1['Grid_id']) for i in range(len(eloca)))"
   ]
  },
  {
   "cell_type": "code",
   "execution_count": 135,
   "metadata": {},
   "outputs": [],
   "source": [
    "Aeline=[]\n",
    "for i in range(len(table1['Grid_id'])):\n",
    "    for j in range(len(P)):\n",
    "        Aeline.append((j+1,i+1,Ae[j][i]))\n",
    "Aeline=pd.DataFrame(Aeline)\n",
    "Aeline.to_csv('xpressExistdist.csv')"
   ]
  },
  {
   "cell_type": "code",
   "execution_count": 136,
   "metadata": {},
   "outputs": [],
   "source": [
    "# existing stations information\n",
    "# index of existing points\n",
    "#indexe=tuple(i+1 for i in table1['Grid_id'])\n",
    "# creat table\n",
    "#table2=pd.DataFrame(Ae,columns=indexe)\n",
    "# location\n",
    "#table2.insert(loc=0, column='Location', value=eloca)\n",
    "# type\n",
    "#table2.insert(loc=0, column='Type', value=cha['Type'])\n",
    "# gird id\n",
    "#table2.insert(loc=0, column='Gird_id', value=cha['grid number'])"
   ]
  },
  {
   "cell_type": "code",
   "execution_count": 137,
   "metadata": {},
   "outputs": [],
   "source": [
    "# save in csv\n",
    "# coding:utf-8\n",
    "#table2.to_csv('existing.csv')"
   ]
  },
  {
   "cell_type": "code",
   "execution_count": 144,
   "metadata": {},
   "outputs": [],
   "source": [
    "pgrid=pot['grid number']\n",
    "egrid=cha['grid number']\n",
    "matrpg=[[0]*len(pgrid) for i in range(len(dem))]\n",
    "matreg=[[0]*len(egrid) for i in range(len(dem))]\n",
    "pgline=[]\n",
    "egline=[]\n",
    "for i in range(len(pgrid)):\n",
    "    matrpg[pgrid[i]][i]=1\n",
    "for i in range(len(dem)):\n",
    "    for j in range(len(pgrid)):\n",
    "        pgline.append((j+1,i+1,matrpg[i][j]))\n",
    "        \n",
    "for i in range(len(egrid)):\n",
    "    matreg[egrid[i]][i]=1\n",
    "for i in range(len(dem)):\n",
    "    for j in range(len(egrid)):\n",
    "        egline.append((j+1,i+1,matreg[i][j]))\n",
    "pgline=pd.DataFrame(pgline)\n",
    "egline=pd.DataFrame(egline)\n",
    "pgline.to_csv('pgline.csv')\n",
    "egline.to_csv('egline.csv')"
   ]
  },
  {
   "cell_type": "markdown",
   "metadata": {},
   "source": [
    "if gird is in the cneter (i.e. $disc\\leq 2000$) then $DC_i=1$"
   ]
  },
  {
   "cell_type": "code",
   "execution_count": 139,
   "metadata": {},
   "outputs": [],
   "source": [
    "# if gird is in the cneter (i.e. disc<=2000) then DCi=1\n",
    "disc=[(i+1,1) if dem['Distance from Centre'][i]<=2000 else (i+1,0) for i in range(len(dem))]\n",
    "disc=pd.DataFrame(disc)\n",
    "disc.to_csv('dist_center.csv')"
   ]
  },
  {
   "cell_type": "markdown",
   "metadata": {},
   "source": [
    "Here we plot a map to visualize the distribution of potential points and existing stations"
   ]
  },
  {
   "cell_type": "code",
   "execution_count": 180,
   "metadata": {},
   "outputs": [],
   "source": [
    "stainpoin=pd.read_csv('gird_point.csv') # grid num_of_stations dis_center demand1,2,3\n",
    "stainpoin=np.array(stainpoin)\n",
    "DemSup=np.zeros([325,200,4])\n",
    "for p in range(len(stainpoin)):\n",
    "    DemSup[stainpoin[p][0]-1][stainpoin[p][1]-1][stainpoin[p][2]-1]=stainpoin[p][3]"
   ]
  },
  {
   "cell_type": "code",
   "execution_count": 181,
   "metadata": {},
   "outputs": [
    {
     "data": {
      "text/plain": [
       "True"
      ]
     },
     "execution_count": 181,
     "metadata": {},
     "output_type": "execute_result"
    }
   ],
   "source": [
    "# map\n",
    "import folium\n",
    "import webbrowser as wb\n",
    "latitude=56.480849246733456\n",
    "longitude=-2.9696938298929183\n",
    "# Dundee Map\n",
    "m=folium.Map(location=[latitude,longitude],\n",
    "             width='100',height='100',\n",
    "             zoom_start=12,min_zoom=0,max_zoom=18,\n",
    "             titles='OpenStreetMap')\n",
    "\n",
    "# point\n",
    "def pointmap(m,pointlist,col,r=1):\n",
    "    point=folium.map.FeatureGroup()\n",
    "    for p in pointlist:\n",
    "        point.add_child(\n",
    "            folium.CircleMarker(p,radius=r,color=col,fill=True)\n",
    "        )\n",
    "    m.add_child(point)\n",
    "    \n",
    "pointmap(m,eloca,col='#0066FF')\n",
    "pointmap(m,ploca,col='#FF7744')\n",
    "\n",
    "# grid\n",
    "for i in range(len(geometry)):\n",
    "    folium.Polygon(geometry[i],\n",
    "                   color='gray',weight=0.5,fill=True,fill_opacity=0.2\n",
    "                   ).add_to(m) \n",
    "\n",
    "m.add_child(folium.LatLngPopup()) \n",
    "for i in range(325):\n",
    "    for j in range(200):\n",
    "        if DemSup[i,j,3]>=1 and table1['Demand_3'][j]!=0:\n",
    "            folium.PolyLine(\n",
    "            locations=[       \n",
    "                ploca[i] ,\n",
    "                loca[table1['Grid_id'][j]-1],\n",
    "            ],\n",
    "            popup=folium.Popup('demand-supply', max_width=10),\n",
    "            color='red',\n",
    "            weight=2\n",
    "            ).add_to(m)\n",
    "\n",
    "    \n",
    "m.save('map.html')\n",
    "wb.open('map.html')"
   ]
  },
  {
   "cell_type": "markdown",
   "metadata": {},
   "source": [
    "### find potential points of which infrastructure has been established\n",
    "\n",
    "After observing the distribution of points and stations, we assume that if there's a station within $40$ meters of point $i$, we can say that point $i$ has infrastructure."
   ]
  },
  {
   "cell_type": "code",
   "execution_count": 142,
   "metadata": {},
   "outputs": [
    {
     "name": "stdout",
     "output_type": "stream",
     "text": [
      "31, 69, 300, 30, 82, 26, 175, 142, 67, 18, 15, 106\n"
     ]
    }
   ],
   "source": [
    "# find potential points of which infrastructure has been established\n",
    "pi={}                 # potential points with infrastructure\n",
    "for i in range(len(eloca)):\n",
    "    for j in range(len(ploca)):\n",
    "        d=geodesic(eloca[i],ploca[j]).m\n",
    "        if d<40:        # 40m seems reasonable\n",
    "            if j+1 in pi:\n",
    "                pi[j+1]=pi[j+1]+[(i+1,round(d,1))]\n",
    "            else:\n",
    "                pi[j+1]=[(i+1,round(d,1))]\n",
    "print(\", \".join(str(i) for i in pi))"
   ]
  },
  {
   "cell_type": "markdown",
   "metadata": {},
   "source": [
    "### observing the histograms and choose the upper of demand"
   ]
  },
  {
   "cell_type": "code",
   "execution_count": 143,
   "metadata": {},
   "outputs": [
    {
     "data": {
      "image/png": "[encoded data removed]",
      "text/plain": [
       "<Figure size 640x480 with 4 Axes>"
      ]
     },
     "metadata": {},
     "output_type": "display_data"
    }
   ],
   "source": [
    "# Histogram of demand in different period\n",
    "import matplotlib.pyplot as plt\n",
    "demlist=[]\n",
    "top,bottom=1000000,10\n",
    "demlist.append(tuple(i for i in dem['Demand_0'] if top>i>bottom))\n",
    "demlist.append(tuple(i for i in dem['Demand_1'] if top>i>bottom))\n",
    "demlist.append(tuple(i for i in dem['Demand_2'] if top>i>bottom))\n",
    "demlist.append(tuple(i for i in dem['Demand_3'] if top>i>bottom))\n",
    "for i in range(4):\n",
    "    plt.subplot(2,2,i+1)\n",
    "    plt.hist(demlist[i], 50, facecolor='blue', alpha=0.5)\n",
    "    plt.title(f\"Demand{i}\")\n",
    "# add a 'best fit' line\n",
    "plt.tight_layout()\n",
    "plt.show()\n",
    "#print(demlist)\n"
   ]
  },
  {
   "cell_type": "code",
   "execution_count": 173,
   "metadata": {},
   "outputs": [
    {
     "name": "stdout",
     "output_type": "stream",
     "text": [
      "5 [0. 0. 3.]\n",
      "6 [0. 0. 1.]\n",
      "9 [3. 0. 0.]\n",
      "10 [3. 0. 0.]\n",
      "12 [1. 0. 0.]\n",
      "20 [1. 0. 0.]\n",
      "31 [0. 0. 1.]\n",
      "38 [2. 0. 0.]\n",
      "39 [1. 0. 0.]\n",
      "46 [0. 0. 1.]\n",
      "52 [3. 0. 0.]\n",
      "59 [5. 3. 0.]\n",
      "61 [5. 0. 0.]\n",
      "70 [2. 6. 0.]\n",
      "80 [0. 0. 2.]\n",
      "83 [0. 0. 2.]\n",
      "87 [1. 0. 0.]\n",
      "98 [0. 0. 1.]\n",
      "100 [0. 0. 1.]\n",
      "112 [1. 0. 0.]\n",
      "117 [1. 0. 0.]\n",
      "124 [0. 0. 3.]\n",
      "133 [1. 0. 0.]\n",
      "135 [6. 2. 0.]\n",
      "136 [2. 0. 0.]\n",
      "137 [1. 7. 0.]\n",
      "148 [2. 6. 0.]\n",
      "152 [7. 0. 1.]\n",
      "155 [0. 0. 3.]\n",
      "157 [1. 0. 0.]\n",
      "162 [0. 7. 1.]\n",
      "167 [0. 0. 1.]\n",
      "169 [0. 0. 2.]\n",
      "170 [3. 0. 0.]\n",
      "174 [0. 0. 1.]\n",
      "175 [1. 0. 0.]\n",
      "181 [2. 6. 0.]\n",
      "182 [6. 2. 0.]\n",
      "187 [1. 7. 0.]\n",
      "192 [8. 0. 0.]\n",
      "201 [1. 0. 0.]\n",
      "214 [0. 0. 2.]\n",
      "220 [0. 0. 1.]\n",
      "234 [0. 0. 1.]\n",
      "236 [1. 7. 0.]\n",
      "238 [2. 0. 0.]\n",
      "240 [1. 0. 0.]\n",
      "242 [3. 5. 0.]\n",
      "244 [5. 0. 0.]\n",
      "245 [3. 5. 0.]\n",
      "246 [5. 0. 0.]\n",
      "253 [3. 0. 0.]\n",
      "254 [1. 0. 0.]\n",
      "255 [1. 0. 0.]\n",
      "256 [3. 0. 0.]\n",
      "257 [0. 0. 1.]\n",
      "258 [0. 0. 1.]\n",
      "260 [0. 6. 2.]\n",
      "262 [1. 0. 0.]\n",
      "270 [1. 0. 0.]\n",
      "272 [2. 0. 0.]\n",
      "277 [1. 0. 0.]\n",
      "279 [2. 0. 0.]\n",
      "281 [1. 0. 0.]\n",
      "284 [2. 0. 0.]\n",
      "286 [3. 5. 0.]\n",
      "292 [1. 0. 0.]\n",
      "317 [1. 0. 0.]\n"
     ]
    }
   ],
   "source": [
    "stainpoin=pd.read_csv('StationInPoint.csv') # grid num_of_stations dis_center demand1,2,3\n",
    "stainpoin=np.array(stainpoin)\n",
    "P=np.zeros([325,4,3]) # points periods types\n",
    "for p in range(len(stainpoin)):\n",
    "    P[stainpoin[p][1]-1,stainpoin[p][2]-1,stainpoin[p][0]-1]+=stainpoin[p][3]\n",
    "for i in range(325):\n",
    "    if (P[i,:,:]!=0).any():\n",
    "        print(i+1,P[i,3,:])\n",
    "    "
   ]
  },
  {
   "cell_type": "code",
   "execution_count": 170,
   "metadata": {},
   "outputs": [
    {
     "data": {
      "text/plain": [
       "False"
      ]
     },
     "execution_count": 170,
     "metadata": {},
     "output_type": "execute_result"
    }
   ],
   "source": [
    "(P[i,:,:]!=0).any()"
   ]
  }
 ],
 "metadata": {
  "kernelspec": {
   "display_name": "Python 3.9.13 ('base')",
   "language": "python",
   "name": "python3"
  },
  "language_info": {
   "codemirror_mode": {
    "name": "ipython",
    "version": 3
   },
   "file_extension": ".py",
   "mimetype": "text/x-python",
   "name": "python",
   "nbconvert_exporter": "python",
   "pygments_lexer": "ipython3",
   "version": "3.9.15"
  },
  "orig_nbformat": 4,
  "vscode": {
   "interpreter": {
    "hash": "b09ec625f77bf4fd762565a912b97636504ad6ec901eb2d0f4cf5a7de23e1ee5"
   }
  }
 },
 "nbformat": 4,
 "nbformat_minor": 2
}
